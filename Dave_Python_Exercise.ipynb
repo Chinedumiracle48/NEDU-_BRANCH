{
 "cells": [
  {
   "cell_type": "code",
   "execution_count": 3,
   "id": "2f449272",
   "metadata": {},
   "outputs": [
    {
     "name": "stdout",
     "output_type": "stream",
     "text": [
      "n: -179\n",
      "The last digit of -179 is -9\n"
     ]
    }
   ],
   "source": [
    "import random\n",
    "\n",
    "n = random.randint(-999, 999)\n",
    "print(f\"n: {n}\")\n",
    "\n",
    "b4 = n\n",
    "\n",
    "if n < 0:\n",
    "    n = n * -1\n",
    "    last_digit = -1 * (n % 10) \n",
    "else:\n",
    "    last_digit = n % 10\n",
    "\n",
    "print(f\"The last digit of {b4} is {last_digit}\")"
   ]
  },
  {
   "cell_type": "code",
   "execution_count": 4,
   "id": "aff2c605",
   "metadata": {},
   "outputs": [
    {
     "name": "stdout",
     "output_type": "stream",
     "text": [
      "HELLOO\n"
     ]
    }
   ],
   "source": [
    "a_tuple = ('H','E', 'L', 'L', 'O', 'O' )\n",
    "\n",
    "new_tuple = \"\".join(a_tuple)\n",
    "print (new_tuple)"
   ]
  },
  {
   "cell_type": "code",
   "execution_count": 5,
   "id": "81281ecb",
   "metadata": {},
   "outputs": [
    {
     "name": "stdout",
     "output_type": "stream",
     "text": [
      "6.0\n"
     ]
    }
   ],
   "source": [
    "tup = (1, 5, 7, 8, 9)\n",
    "\n",
    "a = sum (tup)\n",
    "\n",
    "avg = a/float(len(tup))\n",
    "\n",
    "print (avg)"
   ]
  },
  {
   "cell_type": "code",
   "execution_count": 6,
   "id": "d292af63",
   "metadata": {},
   "outputs": [
    {
     "name": "stdout",
     "output_type": "stream",
     "text": [
      "(6, 9, 8, 6)\n"
     ]
    }
   ],
   "source": [
    "tuples = (\n",
    "(1, 2, 3, 4),\n",
    "(3, 5, 2, 1),\n",
    "(2, 2, 3, 1)\n",
    ")\n",
    "\n",
    "a = tuples[0]\n",
    "b = tuples[1]\n",
    "c = tuples[2]\n",
    "\n",
    "i = (a[0] + b[0] + c[0], a[1] + b[1] + c[1], a[2] + b[2] + c[2], a[3] + b[3] + c[3])\n",
    "print(i)"
   ]
  },
  {
   "cell_type": "code",
   "execution_count": 28,
   "id": "0d4b3794",
   "metadata": {},
   "outputs": [
    {
     "name": "stdout",
     "output_type": "stream",
     "text": [
      "List 0: ['Cassandra Richard', 'Ahmed McCall', 'Kai Smith', 'Liam Pineda', 'Nola Mathis', 'Gustavo Parra', 'Dalary Herman']\n",
      "List 1: ['Juelz Howard', 'Sophie Long', 'Jace Wiggins', 'Capri Silva', 'Luka Ward', 'Ariana Bell', 'Emmett Green']\n",
      "List 2: ['Zoe Chase', 'Otis Barnett', 'Harlow McGuire', 'Casey Cummings', 'Nylah Campos', 'Gideon Anderson', 'Ella Jensen']\n",
      "List 3: ['Cash Alexander', 'Lyla Koch', 'Salvador York', 'Milan Branch', 'Keenan Norman', 'Malani Morton', 'Roland Garrett']\n",
      "List 4: ['Tessa Simon', 'Zayne Castillo', 'Eva Chang', 'Ari Maynard', 'Carolyn Barnett', 'Stephen Dickson', 'Israel Michael']\n"
     ]
    }
   ],
   "source": [
    "names = \"\"\"Cassandra Richard, Ahmed McCall, Kai Smith, Liam Pineda, Nola Mathis, Gustavo Parra, Dalary Herman, Juelz Howard, Sophie Long, Jace Wiggins, Capri Silva, Luka Ward, Ariana Bell, Emmett Green, Zoe Chase, Otis Barnett, Harlow McGuire, Casey Cummings, Nylah Campos, Gideon Anderson, Ella Jensen, Cash Alexander, Lyla Koch, Salvador York, Milan Branch, Keenan Norman, Malani Morton, Roland Garrett, Tessa Simon, Zayne Castillo, Eva Chang, Ari Maynard, Carolyn Barnett, Stephen Dickson, Israel Michael\"\"\"\n",
    "\n",
    "name = names.split(\", \")\n",
    "\n",
    "split_lists = [name[i:i+7] for i in range(0, len(name), 7)]\n",
    "\n",
    "for i, split_list in enumerate(split_lists):\n",
    "    print(f\"List {i}: {split_list}\")"
   ]
  },
  {
   "cell_type": "code",
   "execution_count": 26,
   "id": "c923db6f",
   "metadata": {},
   "outputs": [
    {
     "name": "stdout",
     "output_type": "stream",
     "text": [
      "['Cassandra Richard', 'Ahmed McCall', 'Kai Smith', 'Liam Pineda', 'Nola Mathis', 'Gustavo Parra', 'Dalary Herman', 'Juelz Howard', 'Sophie Long', 'Jace Wiggins', 'Capri Silva', 'Luka Ward', 'Ariana Bell', 'Emmett Green', 'Zoe Chase', 'Otis Barnett', 'Harlow McGuire', 'Casey Cummings', 'Nylah Campos', 'Gideon Anderson', 'Ella Jensen', 'Cash Alexander', 'Lyla Koch', 'Salvador York', 'Milan Branch', 'Keenan Norman', 'Malani Morton', 'Roland Garrett', 'Tessa Simon', 'Zayne Castillo', 'Eva Chang', 'Ari Maynard', 'Carolyn Barnett', 'Stephen Dickson', 'Israel Michael']\n"
     ]
    }
   ],
   "source": [
    "names = \"\"\"Cassandra Richard, Ahmed McCall, Kai Smith, Liam Pineda, Nola Mathis, Gustavo Parra, Dalary Herman, Juelz Howard, Sophie Long, Jace Wiggins, Capri Silva, Luka Ward, Ariana Bell, Emmett Green, Zoe Chase, Otis Barnett, Harlow McGuire, Casey Cummings, Nylah Campos, Gideon Anderson, Ella Jensen, Cash Alexander, Lyla Koch, Salvador York, Milan Branch, Keenan Norman, Malani Morton, Roland Garrett, Tessa Simon, Zayne Castillo, Eva Chang, Ari Maynard, Carolyn Barnett, Stephen Dickson, Israel Michael\"\"\"\n",
    "\n",
    "name = names.split(\", \")\n",
    "\n",
    "print (name)"
   ]
  },
  {
   "cell_type": "code",
   "execution_count": 27,
   "id": "36474f2f",
   "metadata": {},
   "outputs": [
    {
     "name": "stdout",
     "output_type": "stream",
     "text": [
      "[['Cassandra Richard', 'Ahmed McCall', 'Kai Smith', 'Liam Pineda', 'Nola Mathis', 'Gustavo Parra', 'Dalary Herman'], ['Juelz Howard', 'Sophie Long', 'Jace Wiggins', 'Capri Silva', 'Luka Ward', 'Ariana Bell', 'Emmett Green'], ['Zoe Chase', 'Otis Barnett', 'Harlow McGuire', 'Casey Cummings', 'Nylah Campos', 'Gideon Anderson', 'Ella Jensen'], ['Cash Alexander', 'Lyla Koch', 'Salvador York', 'Milan Branch', 'Keenan Norman', 'Malani Morton', 'Roland Garrett'], ['Tessa Simon', 'Zayne Castillo', 'Eva Chang', 'Ari Maynard', 'Carolyn Barnett', 'Stephen Dickson', 'Israel Michael']]\n"
     ]
    }
   ],
   "source": [
    "names = \"\"\"Cassandra Richard, Ahmed McCall, Kai Smith, Liam Pineda, Nola Mathis, Gustavo Parra, Dalary Herman, Juelz Howard, Sophie Long, Jace Wiggins, Capri Silva, Luka Ward, Ariana Bell, Emmett Green, Zoe Chase, Otis Barnett, Harlow McGuire, Casey Cummings, Nylah Campos, Gideon Anderson, Ella Jensen, Cash Alexander, Lyla Koch, Salvador York, Milan Branch, Keenan Norman, Malani Morton, Roland Garrett, Tessa Simon, Zayne Castillo, Eva Chang, Ari Maynard, Carolyn Barnett, Stephen Dickson, Israel Michael\"\"\"\n",
    "\n",
    "name = names.split(\", \")\n",
    "\n",
    "split_lists = [name[i:i+7] for i in range(0, len(name), 7)]\n",
    "\n",
    "print (split_lists)"
   ]
  },
  {
   "cell_type": "code",
   "execution_count": 1,
   "id": "d0d6c691",
   "metadata": {},
   "outputs": [
    {
     "name": "stdout",
     "output_type": "stream",
     "text": [
      "----WELCOME TO TASK MANAGER----\n",
      "Enter your full name: chinedu onwumere\n",
      " Chinedu onwumere, what would you like to do Today?\n",
      "[1] option 1: Create a task\n",
      "[2] option 2: Search through task\n",
      "[3] option 3: Delete a task\n",
      "[4] option 4: update a task\n",
      "Select an option: 2\n",
      "Search through task (python is keyword)\n",
      "Enter keyword: python\n",
      "your python work exists and is displayed below\n",
      "Select an option (0 to quit) : 0\n",
      " Thanks for using this\n"
     ]
    }
   ],
   "source": [
    "print ('----WELCOME TO TASK MANAGER----')\n",
    "name = input(\"Enter your full name: \" ).capitalize()\n",
    "\n",
    "while True:\n",
    "    print (f\" {name}, what would you like to do Today?\")\n",
    "    break\n",
    "def menu ():\n",
    "    print(\"[1] option 1: Create a task\")\n",
    "    print(\"[2] option 2: Search through task\")\n",
    "    print(\"[3] option 3: Delete a task\")\n",
    "    print(\"[4] option 4: update a task\")\n",
    "menu()\n",
    "option = int(input(\"Select an option: \"))\n",
    "while option != 0:\n",
    "    if option == 1:\n",
    "        print(\"Create a task: \")\n",
    "        message1 = input(\">\")\n",
    "        print(f\"{message1} is created\")\n",
    "    elif option == 2:\n",
    "        print(\"Search through task (python is keyword)\")\n",
    "        message2 = input(\"Enter keyword: \")\n",
    "        if message2 == \"python\":\n",
    "            print(\"your python work exists and is displayed below\")\n",
    "        else:\n",
    "            print(\"invalid value\")\n",
    "    elif option == 3:\n",
    "        print(\"Delete a task\")\n",
    "        message3 = input(\"Enter task to delete: \")\n",
    "        if message3 == \"python\":\n",
    "            print(\"Your python task is deleted\")\n",
    "        else:\n",
    "            print(\"invalid value\")\n",
    "    elif option == 4:\n",
    "        print(\"update a task\")\n",
    "        message4 = input(\"Enter task to update: \")\n",
    "        print(f\"{message4} is updated\")\n",
    "    else:\n",
    "        print(\"invalid value\")\n",
    "    option = int(input(\"Select an option (0 to quit) : \"))\n",
    "print(\" Thanks for using this\")"
   ]
  },
  {
   "cell_type": "code",
   "execution_count": null,
   "id": "ea7783fc",
   "metadata": {},
   "outputs": [],
   "source": [
    "def is_prime(n):\n",
    "    if n <= 1:\n",
    "        return False\n",
    "\n",
    "    # Check for divisibility from 2 to the square root of n\n",
    "    for i in range(2, int(n ** 0.5) + 1):\n",
    "        if n % i == 0:\n",
    "            return False\n",
    "\n",
    "    return True\n",
    "\n",
    "# Test the function\n",
    "number = int(input(\"Enter a number: \"))\n",
    "if is_prime(number):\n",
    "    print(number, \"is a prime number\")\n",
    "else:\n",
    "    print(number, \"is not a prime number\")\n"
   ]
  },
  {
   "cell_type": "code",
   "execution_count": null,
   "id": "06b65675",
   "metadata": {},
   "outputs": [],
   "source": [
    "#A function that calculates all prime numbers up to a particluar number entered.\n",
    "\n",
    "def is_prime(n):\n",
    "    if n <= 1:\n",
    "        return False\n",
    "\n",
    "    # Check for divisibility from 2 to the square root of n\n",
    "    for i in range(2, int(n ** 0.5) + 1):\n",
    "        if n % i == 0:\n",
    "            return False\n",
    "\n",
    "    return True\n",
    "# Test the function\n",
    "number = int(input(\"Enter a number: \"))\n",
    "if is_prime(number):\n",
    "    print(number, \"is a prime number\")\n",
    "else:\n",
    "    print(number, \"is not a prime number\")"
   ]
  },
  {
   "cell_type": "code",
   "execution_count": 1,
   "id": "b12ffd50",
   "metadata": {},
   "outputs": [
    {
     "name": "stdout",
     "output_type": "stream",
     "text": [
      "Peter is 30 and can swim and walk\n",
      "['__class__', '__delattr__', '__dict__', '__dir__', '__doc__', '__eq__', '__format__', '__ge__', '__getattribute__', '__gt__', '__hash__', '__init__', '__init_subclass__', '__le__', '__lt__', '__module__', '__ne__', '__new__', '__reduce__', '__reduce_ex__', '__repr__', '__setattr__', '__sizeof__', '__str__', '__subclasshook__', '__weakref__', 'actions', 'age', 'behaviour', 'name']\n"
     ]
    }
   ],
   "source": [
    "class Attributes:\n",
    "    def __init__(self, name, age):\n",
    "        self.name = name\n",
    "        self.age = age\n",
    "        self.actions = [\"swim\", \"run\", \"walk\"]\n",
    "\n",
    "    def behaviour(self):\n",
    "        return f\"{self.name.title()} is {self.age} and can {self.actions[0]} and {self.actions[2]}\"\n",
    "\n",
    "\n",
    "name1 = Attributes(\"peter\", 30)\n",
    "print(name1.behaviour())\n",
    "\n",
    "def look_up(object):\n",
    "    return dir(object)\n",
    "print(look_up(name1))"
   ]
  },
  {
   "cell_type": "code",
   "execution_count": 2,
   "id": "01f059fb",
   "metadata": {},
   "outputs": [
    {
     "name": "stdout",
     "output_type": "stream",
     "text": [
      "[0, 1, 2, 3, 5, 6, 8]\n"
     ]
    }
   ],
   "source": [
    "class MyList(list):\n",
    "    def print_sorted(self):\n",
    "        sorted_list = sorted(self)\n",
    "        print(sorted_list)\n",
    "\n",
    "\n",
    "my_list = MyList([5, 2, 8, 1, 3])\n",
    "my_list.append(6)\n",
    "my_list.append(0)\n",
    "my_list.print_sorted()  # Output: [0, 1, 2, 3, 5, 6, 8]"
   ]
  },
  {
   "cell_type": "code",
   "execution_count": 3,
   "id": "48b0faf1",
   "metadata": {},
   "outputs": [
    {
     "name": "stdout",
     "output_type": "stream",
     "text": [
      "1 is an instance of the class int\n"
     ]
    }
   ],
   "source": [
    "def is_same_class(obj, a_class):\n",
    "    return type(obj) is a_class\n",
    "\n",
    "a = 1\n",
    "if is_same_class(a, int):\n",
    "    print(\"{} is an instance of the class {}\".format(a, int.__name__))\n",
    "if is_same_class(a, float):\n",
    "    print(\"{} is an instance of the class {}\".format(a, float.__name__))\n",
    "if is_same_class(a, object):\n",
    "    print(\"{} is an instance of the class {}\".format(a, object.__name__))"
   ]
  },
  {
   "cell_type": "code",
   "execution_count": 4,
   "id": "d298a70e",
   "metadata": {},
   "outputs": [
    {
     "name": "stdout",
     "output_type": "stream",
     "text": [
      "1.5 comes from float\n"
     ]
    }
   ],
   "source": [
    "def is_kind_of_class(obj, a_class):\n",
    "    return type(obj) is a_class\n",
    "\n",
    "a = 1.5\n",
    "if is_kind_of_class(a, int):\n",
    "    print(\"{} comes from {}\".format(a, int.__name__))\n",
    "if is_kind_of_class(a, float):\n",
    "    print(\"{} comes from {}\".format(a, float.__name__))\n",
    "if is_kind_of_class(a, object):\n",
    "    print(\"{} comes from {}\".format(a, object.__name__))\n"
   ]
  },
  {
   "cell_type": "code",
   "execution_count": 5,
   "id": "98e53428",
   "metadata": {},
   "outputs": [
    {
     "name": "stdout",
     "output_type": "stream",
     "text": [
      "False inherited from class bool\n"
     ]
    }
   ],
   "source": [
    "def inherits_from(obj, a_class):\n",
    "    return type(obj) is a_class\n",
    "\n",
    "a = False\n",
    "if inherits_from(a, int):\n",
    "    print(\"{} inherited from class {}\".format(a, int.__name__))\n",
    "if inherits_from(a, bool):\n",
    "    print(\"{} inherited from class {}\".format(a, bool.__name__))\n",
    "if inherits_from(a, object):\n",
    "    print(\"{} inherited from class {}\".format(a, object.__name__))"
   ]
  },
  {
   "cell_type": "code",
   "execution_count": 6,
   "id": "979c9962",
   "metadata": {},
   "outputs": [
    {
     "name": "stdout",
     "output_type": "stream",
     "text": [
      "###\n",
      "###\n",
      "###\n",
      "--\n",
      "##########\n",
      "##########\n",
      "##########\n",
      "##########\n",
      "##########\n",
      "##########\n",
      "##########\n",
      "##########\n",
      "##########\n",
      "##########\n",
      "--\n"
     ]
    }
   ],
   "source": [
    "class Square:\n",
    "    def __init__(self, size):\n",
    "        self.size = size\n",
    "\n",
    "    @property\n",
    "    def size(self):\n",
    "        return self._size\n",
    "\n",
    "    @size.setter\n",
    "    def size(self, value):\n",
    "        if not isinstance(value, int):\n",
    "            raise TypeError(\"size must be an integer\")\n",
    "        if value < 0:\n",
    "            raise ValueError(\"size must be >= 0\")\n",
    "        self._size = value\n",
    "\n",
    "    def area(self):\n",
    "        return self.size ** 2\n",
    "\n",
    "    def my_print(self):\n",
    "        if self.size == 0:\n",
    "            print(\"---\")\n",
    "        else:\n",
    "            for x in range(self.size):\n",
    "                print(\"#\" * self.size)\n",
    "\n",
    "\n",
    "my_square = Square(3)\n",
    "my_square.my_print()\n",
    "print(\"--\")\n",
    "\n",
    "my_square = Square(10)\n",
    "my_square.my_print()\n",
    "print(\"--\")"
   ]
  },
  {
   "cell_type": "code",
   "execution_count": null,
   "id": "d3255031",
   "metadata": {},
   "outputs": [],
   "source": []
  }
 ],
 "metadata": {
  "kernelspec": {
   "display_name": "Python 3 (ipykernel)",
   "language": "python",
   "name": "python3"
  },
  "language_info": {
   "codemirror_mode": {
    "name": "ipython",
    "version": 3
   },
   "file_extension": ".py",
   "mimetype": "text/x-python",
   "name": "python",
   "nbconvert_exporter": "python",
   "pygments_lexer": "ipython3",
   "version": "3.9.16"
  }
 },
 "nbformat": 4,
 "nbformat_minor": 5
}
