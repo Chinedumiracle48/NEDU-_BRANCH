{
 "cells": [
  {
   "cell_type": "code",
   "execution_count": 3,
   "id": "2f449272",
   "metadata": {},
   "outputs": [
    {
     "name": "stdout",
     "output_type": "stream",
     "text": [
      "n: -179\n",
      "The last digit of -179 is -9\n"
     ]
    }
   ],
   "source": [
    "import random\n",
    "\n",
    "n = random.randint(-999, 999)\n",
    "print(f\"n: {n}\")\n",
    "\n",
    "b4 = n\n",
    "\n",
    "if n < 0:\n",
    "    n = n * -1\n",
    "    last_digit = -1 * (n % 10) \n",
    "else:\n",
    "    last_digit = n % 10\n",
    "\n",
    "print(f\"The last digit of {b4} is {last_digit}\")"
   ]
  },
  {
   "cell_type": "code",
   "execution_count": 4,
   "id": "aff2c605",
   "metadata": {},
   "outputs": [
    {
     "name": "stdout",
     "output_type": "stream",
     "text": [
      "HELLOO\n"
     ]
    }
   ],
   "source": [
    "a_tuple = ('H','E', 'L', 'L', 'O', 'O' )\n",
    "\n",
    "new_tuple = \"\".join(a_tuple)\n",
    "print (new_tuple)"
   ]
  },
  {
   "cell_type": "code",
   "execution_count": 5,
   "id": "81281ecb",
   "metadata": {},
   "outputs": [
    {
     "name": "stdout",
     "output_type": "stream",
     "text": [
      "6.0\n"
     ]
    }
   ],
   "source": [
    "tup = (1, 5, 7, 8, 9)\n",
    "\n",
    "a = sum (tup)\n",
    "\n",
    "avg = a/float(len(tup))\n",
    "\n",
    "print (avg)"
   ]
  },
  {
   "cell_type": "code",
   "execution_count": 6,
   "id": "d292af63",
   "metadata": {},
   "outputs": [
    {
     "name": "stdout",
     "output_type": "stream",
     "text": [
      "(6, 9, 8, 6)\n"
     ]
    }
   ],
   "source": [
    "tuples = (\n",
    "(1, 2, 3, 4),\n",
    "(3, 5, 2, 1),\n",
    "(2, 2, 3, 1)\n",
    ")\n",
    "\n",
    "a = tuples[0]\n",
    "b = tuples[1]\n",
    "c = tuples[2]\n",
    "\n",
    "i = (a[0] + b[0] + c[0], a[1] + b[1] + c[1], a[2] + b[2] + c[2], a[3] + b[3] + c[3])\n",
    "print(i)"
   ]
  },
  {
   "cell_type": "code",
   "execution_count": 28,
   "id": "0d4b3794",
   "metadata": {},
   "outputs": [
    {
     "name": "stdout",
     "output_type": "stream",
     "text": [
      "List 0: ['Cassandra Richard', 'Ahmed McCall', 'Kai Smith', 'Liam Pineda', 'Nola Mathis', 'Gustavo Parra', 'Dalary Herman']\n",
      "List 1: ['Juelz Howard', 'Sophie Long', 'Jace Wiggins', 'Capri Silva', 'Luka Ward', 'Ariana Bell', 'Emmett Green']\n",
      "List 2: ['Zoe Chase', 'Otis Barnett', 'Harlow McGuire', 'Casey Cummings', 'Nylah Campos', 'Gideon Anderson', 'Ella Jensen']\n",
      "List 3: ['Cash Alexander', 'Lyla Koch', 'Salvador York', 'Milan Branch', 'Keenan Norman', 'Malani Morton', 'Roland Garrett']\n",
      "List 4: ['Tessa Simon', 'Zayne Castillo', 'Eva Chang', 'Ari Maynard', 'Carolyn Barnett', 'Stephen Dickson', 'Israel Michael']\n"
     ]
    }
   ],
   "source": [
    "names = \"\"\"Cassandra Richard, Ahmed McCall, Kai Smith, Liam Pineda, Nola Mathis, Gustavo Parra, Dalary Herman, Juelz Howard, Sophie Long, Jace Wiggins, Capri Silva, Luka Ward, Ariana Bell, Emmett Green, Zoe Chase, Otis Barnett, Harlow McGuire, Casey Cummings, Nylah Campos, Gideon Anderson, Ella Jensen, Cash Alexander, Lyla Koch, Salvador York, Milan Branch, Keenan Norman, Malani Morton, Roland Garrett, Tessa Simon, Zayne Castillo, Eva Chang, Ari Maynard, Carolyn Barnett, Stephen Dickson, Israel Michael\"\"\"\n",
    "\n",
    "name = names.split(\", \")\n",
    "\n",
    "split_lists = [name[i:i+7] for i in range(0, len(name), 7)]\n",
    "\n",
    "for i, split_list in enumerate(split_lists):\n",
    "    print(f\"List {i}: {split_list}\")"
   ]
  },
  {
   "cell_type": "code",
   "execution_count": 26,
   "id": "c923db6f",
   "metadata": {},
   "outputs": [
    {
     "name": "stdout",
     "output_type": "stream",
     "text": [
      "['Cassandra Richard', 'Ahmed McCall', 'Kai Smith', 'Liam Pineda', 'Nola Mathis', 'Gustavo Parra', 'Dalary Herman', 'Juelz Howard', 'Sophie Long', 'Jace Wiggins', 'Capri Silva', 'Luka Ward', 'Ariana Bell', 'Emmett Green', 'Zoe Chase', 'Otis Barnett', 'Harlow McGuire', 'Casey Cummings', 'Nylah Campos', 'Gideon Anderson', 'Ella Jensen', 'Cash Alexander', 'Lyla Koch', 'Salvador York', 'Milan Branch', 'Keenan Norman', 'Malani Morton', 'Roland Garrett', 'Tessa Simon', 'Zayne Castillo', 'Eva Chang', 'Ari Maynard', 'Carolyn Barnett', 'Stephen Dickson', 'Israel Michael']\n"
     ]
    }
   ],
   "source": [
    "names = \"\"\"Cassandra Richard, Ahmed McCall, Kai Smith, Liam Pineda, Nola Mathis, Gustavo Parra, Dalary Herman, Juelz Howard, Sophie Long, Jace Wiggins, Capri Silva, Luka Ward, Ariana Bell, Emmett Green, Zoe Chase, Otis Barnett, Harlow McGuire, Casey Cummings, Nylah Campos, Gideon Anderson, Ella Jensen, Cash Alexander, Lyla Koch, Salvador York, Milan Branch, Keenan Norman, Malani Morton, Roland Garrett, Tessa Simon, Zayne Castillo, Eva Chang, Ari Maynard, Carolyn Barnett, Stephen Dickson, Israel Michael\"\"\"\n",
    "\n",
    "name = names.split(\", \")\n",
    "\n",
    "print (name)"
   ]
  },
  {
   "cell_type": "code",
   "execution_count": 27,
   "id": "36474f2f",
   "metadata": {},
   "outputs": [
    {
     "name": "stdout",
     "output_type": "stream",
     "text": [
      "[['Cassandra Richard', 'Ahmed McCall', 'Kai Smith', 'Liam Pineda', 'Nola Mathis', 'Gustavo Parra', 'Dalary Herman'], ['Juelz Howard', 'Sophie Long', 'Jace Wiggins', 'Capri Silva', 'Luka Ward', 'Ariana Bell', 'Emmett Green'], ['Zoe Chase', 'Otis Barnett', 'Harlow McGuire', 'Casey Cummings', 'Nylah Campos', 'Gideon Anderson', 'Ella Jensen'], ['Cash Alexander', 'Lyla Koch', 'Salvador York', 'Milan Branch', 'Keenan Norman', 'Malani Morton', 'Roland Garrett'], ['Tessa Simon', 'Zayne Castillo', 'Eva Chang', 'Ari Maynard', 'Carolyn Barnett', 'Stephen Dickson', 'Israel Michael']]\n"
     ]
    }
   ],
   "source": [
    "names = \"\"\"Cassandra Richard, Ahmed McCall, Kai Smith, Liam Pineda, Nola Mathis, Gustavo Parra, Dalary Herman, Juelz Howard, Sophie Long, Jace Wiggins, Capri Silva, Luka Ward, Ariana Bell, Emmett Green, Zoe Chase, Otis Barnett, Harlow McGuire, Casey Cummings, Nylah Campos, Gideon Anderson, Ella Jensen, Cash Alexander, Lyla Koch, Salvador York, Milan Branch, Keenan Norman, Malani Morton, Roland Garrett, Tessa Simon, Zayne Castillo, Eva Chang, Ari Maynard, Carolyn Barnett, Stephen Dickson, Israel Michael\"\"\"\n",
    "\n",
    "name = names.split(\", \")\n",
    "\n",
    "split_lists = [name[i:i+7] for i in range(0, len(name), 7)]\n",
    "\n",
    "print (split_lists)"
   ]
  },
  {
   "cell_type": "code",
   "execution_count": null,
   "id": "d0d6c691",
   "metadata": {},
   "outputs": [],
   "source": []
  }
 ],
 "metadata": {
  "kernelspec": {
   "display_name": "Python 3 (ipykernel)",
   "language": "python",
   "name": "python3"
  },
  "language_info": {
   "codemirror_mode": {
    "name": "ipython",
    "version": 3
   },
   "file_extension": ".py",
   "mimetype": "text/x-python",
   "name": "python",
   "nbconvert_exporter": "python",
   "pygments_lexer": "ipython3",
   "version": "3.9.16"
  }
 },
 "nbformat": 4,
 "nbformat_minor": 5
}
