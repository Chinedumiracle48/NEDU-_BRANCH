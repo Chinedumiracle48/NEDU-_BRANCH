{
 "cells": [
  {
   "cell_type": "code",
   "execution_count": 3,
   "id": "2f449272",
   "metadata": {},
   "outputs": [
    {
     "name": "stdout",
     "output_type": "stream",
     "text": [
      "n: -179\n",
      "The last digit of -179 is -9\n"
     ]
    }
   ],
   "source": [
    "import random\n",
    "\n",
    "n = random.randint(-999, 999)\n",
    "print(f\"n: {n}\")\n",
    "\n",
    "b4 = n\n",
    "\n",
    "if n < 0:\n",
    "    n = n * -1\n",
    "    last_digit = -1 * (n % 10) \n",
    "else:\n",
    "    last_digit = n % 10\n",
    "\n",
    "print(f\"The last digit of {b4} is {last_digit}\")"
   ]
  },
  {
   "cell_type": "code",
   "execution_count": 4,
   "id": "aff2c605",
   "metadata": {},
   "outputs": [
    {
     "name": "stdout",
     "output_type": "stream",
     "text": [
      "HELLOO\n"
     ]
    }
   ],
   "source": [
    "a_tuple = ('H','E', 'L', 'L', 'O', 'O' )\n",
    "\n",
    "new_tuple = \"\".join(a_tuple)\n",
    "print (new_tuple)"
   ]
  },
  {
   "cell_type": "code",
   "execution_count": 5,
   "id": "81281ecb",
   "metadata": {},
   "outputs": [
    {
     "name": "stdout",
     "output_type": "stream",
     "text": [
      "6.0\n"
     ]
    }
   ],
   "source": [
    "tup = (1, 5, 7, 8, 9)\n",
    "\n",
    "a = sum (tup)\n",
    "\n",
    "avg = a/float(len(tup))\n",
    "\n",
    "print (avg)"
   ]
  },
  {
   "cell_type": "code",
   "execution_count": 6,
   "id": "d292af63",
   "metadata": {},
   "outputs": [
    {
     "name": "stdout",
     "output_type": "stream",
     "text": [
      "(6, 9, 8, 6)\n"
     ]
    }
   ],
   "source": [
    "tuples = (\n",
    "(1, 2, 3, 4),\n",
    "(3, 5, 2, 1),\n",
    "(2, 2, 3, 1)\n",
    ")\n",
    "\n",
    "a = tuples[0]\n",
    "b = tuples[1]\n",
    "c = tuples[2]\n",
    "\n",
    "i = (a[0] + b[0] + c[0], a[1] + b[1] + c[1], a[2] + b[2] + c[2], a[3] + b[3] + c[3])\n",
    "print(i)"
   ]
  },
  {
   "cell_type": "code",
   "execution_count": 28,
   "id": "0d4b3794",
   "metadata": {},
   "outputs": [
    {
     "name": "stdout",
     "output_type": "stream",
     "text": [
      "List 0: ['Cassandra Richard', 'Ahmed McCall', 'Kai Smith', 'Liam Pineda', 'Nola Mathis', 'Gustavo Parra', 'Dalary Herman']\n",
      "List 1: ['Juelz Howard', 'Sophie Long', 'Jace Wiggins', 'Capri Silva', 'Luka Ward', 'Ariana Bell', 'Emmett Green']\n",
      "List 2: ['Zoe Chase', 'Otis Barnett', 'Harlow McGuire', 'Casey Cummings', 'Nylah Campos', 'Gideon Anderson', 'Ella Jensen']\n",
      "List 3: ['Cash Alexander', 'Lyla Koch', 'Salvador York', 'Milan Branch', 'Keenan Norman', 'Malani Morton', 'Roland Garrett']\n",
      "List 4: ['Tessa Simon', 'Zayne Castillo', 'Eva Chang', 'Ari Maynard', 'Carolyn Barnett', 'Stephen Dickson', 'Israel Michael']\n"
     ]
    }
   ],
   "source": [
    "names = \"\"\"Cassandra Richard, Ahmed McCall, Kai Smith, Liam Pineda, Nola Mathis, Gustavo Parra, Dalary Herman, Juelz Howard, Sophie Long, Jace Wiggins, Capri Silva, Luka Ward, Ariana Bell, Emmett Green, Zoe Chase, Otis Barnett, Harlow McGuire, Casey Cummings, Nylah Campos, Gideon Anderson, Ella Jensen, Cash Alexander, Lyla Koch, Salvador York, Milan Branch, Keenan Norman, Malani Morton, Roland Garrett, Tessa Simon, Zayne Castillo, Eva Chang, Ari Maynard, Carolyn Barnett, Stephen Dickson, Israel Michael\"\"\"\n",
    "\n",
    "name = names.split(\", \")\n",
    "\n",
    "split_lists = [name[i:i+7] for i in range(0, len(name), 7)]\n",
    "\n",
    "for i, split_list in enumerate(split_lists):\n",
    "    print(f\"List {i}: {split_list}\")"
   ]
  },
  {
   "cell_type": "code",
   "execution_count": 26,
   "id": "c923db6f",
   "metadata": {},
   "outputs": [
    {
     "name": "stdout",
     "output_type": "stream",
     "text": [
      "['Cassandra Richard', 'Ahmed McCall', 'Kai Smith', 'Liam Pineda', 'Nola Mathis', 'Gustavo Parra', 'Dalary Herman', 'Juelz Howard', 'Sophie Long', 'Jace Wiggins', 'Capri Silva', 'Luka Ward', 'Ariana Bell', 'Emmett Green', 'Zoe Chase', 'Otis Barnett', 'Harlow McGuire', 'Casey Cummings', 'Nylah Campos', 'Gideon Anderson', 'Ella Jensen', 'Cash Alexander', 'Lyla Koch', 'Salvador York', 'Milan Branch', 'Keenan Norman', 'Malani Morton', 'Roland Garrett', 'Tessa Simon', 'Zayne Castillo', 'Eva Chang', 'Ari Maynard', 'Carolyn Barnett', 'Stephen Dickson', 'Israel Michael']\n"
     ]
    }
   ],
   "source": [
    "names = \"\"\"Cassandra Richard, Ahmed McCall, Kai Smith, Liam Pineda, Nola Mathis, Gustavo Parra, Dalary Herman, Juelz Howard, Sophie Long, Jace Wiggins, Capri Silva, Luka Ward, Ariana Bell, Emmett Green, Zoe Chase, Otis Barnett, Harlow McGuire, Casey Cummings, Nylah Campos, Gideon Anderson, Ella Jensen, Cash Alexander, Lyla Koch, Salvador York, Milan Branch, Keenan Norman, Malani Morton, Roland Garrett, Tessa Simon, Zayne Castillo, Eva Chang, Ari Maynard, Carolyn Barnett, Stephen Dickson, Israel Michael\"\"\"\n",
    "\n",
    "name = names.split(\", \")\n",
    "\n",
    "print (name)"
   ]
  },
  {
   "cell_type": "code",
   "execution_count": 27,
   "id": "36474f2f",
   "metadata": {},
   "outputs": [
    {
     "name": "stdout",
     "output_type": "stream",
     "text": [
      "[['Cassandra Richard', 'Ahmed McCall', 'Kai Smith', 'Liam Pineda', 'Nola Mathis', 'Gustavo Parra', 'Dalary Herman'], ['Juelz Howard', 'Sophie Long', 'Jace Wiggins', 'Capri Silva', 'Luka Ward', 'Ariana Bell', 'Emmett Green'], ['Zoe Chase', 'Otis Barnett', 'Harlow McGuire', 'Casey Cummings', 'Nylah Campos', 'Gideon Anderson', 'Ella Jensen'], ['Cash Alexander', 'Lyla Koch', 'Salvador York', 'Milan Branch', 'Keenan Norman', 'Malani Morton', 'Roland Garrett'], ['Tessa Simon', 'Zayne Castillo', 'Eva Chang', 'Ari Maynard', 'Carolyn Barnett', 'Stephen Dickson', 'Israel Michael']]\n"
     ]
    }
   ],
   "source": [
    "names = \"\"\"Cassandra Richard, Ahmed McCall, Kai Smith, Liam Pineda, Nola Mathis, Gustavo Parra, Dalary Herman, Juelz Howard, Sophie Long, Jace Wiggins, Capri Silva, Luka Ward, Ariana Bell, Emmett Green, Zoe Chase, Otis Barnett, Harlow McGuire, Casey Cummings, Nylah Campos, Gideon Anderson, Ella Jensen, Cash Alexander, Lyla Koch, Salvador York, Milan Branch, Keenan Norman, Malani Morton, Roland Garrett, Tessa Simon, Zayne Castillo, Eva Chang, Ari Maynard, Carolyn Barnett, Stephen Dickson, Israel Michael\"\"\"\n",
    "\n",
    "name = names.split(\", \")\n",
    "\n",
    "split_lists = [name[i:i+7] for i in range(0, len(name), 7)]\n",
    "\n",
    "print (split_lists)"
   ]
  },
  {
   "cell_type": "code",
   "execution_count": 1,
   "id": "d0d6c691",
   "metadata": {},
   "outputs": [
    {
     "name": "stdout",
     "output_type": "stream",
     "text": [
      "----WELCOME TO TASK MANAGER----\n",
      "Enter your full name: chinedu onwumere\n",
      " Chinedu onwumere, what would you like to do Today?\n",
      "[1] option 1: Create a task\n",
      "[2] option 2: Search through task\n",
      "[3] option 3: Delete a task\n",
      "[4] option 4: update a task\n",
      "Select an option: 2\n",
      "Search through task (python is keyword)\n",
      "Enter keyword: python\n",
      "your python work exists and is displayed below\n",
      "Select an option (0 to quit) : 0\n",
      " Thanks for using this\n"
     ]
    }
   ],
   "source": [
    "print ('----WELCOME TO TASK MANAGER----')\n",
    "name = input(\"Enter your full name: \" ).capitalize()\n",
    "\n",
    "while True:\n",
    "    print (f\" {name}, what would you like to do Today?\")\n",
    "    break\n",
    "def menu ():\n",
    "    print(\"[1] option 1: Create a task\")\n",
    "    print(\"[2] option 2: Search through task\")\n",
    "    print(\"[3] option 3: Delete a task\")\n",
    "    print(\"[4] option 4: update a task\")\n",
    "menu()\n",
    "option = int(input(\"Select an option: \"))\n",
    "while option != 0:\n",
    "    if option == 1:\n",
    "        print(\"Create a task: \")\n",
    "        message1 = input(\">\")\n",
    "        print(f\"{message1} is created\")\n",
    "    elif option == 2:\n",
    "        print(\"Search through task (python is keyword)\")\n",
    "        message2 = input(\"Enter keyword: \")\n",
    "        if message2 == \"python\":\n",
    "            print(\"your python work exists and is displayed below\")\n",
    "        else:\n",
    "            print(\"invalid value\")\n",
    "    elif option == 3:\n",
    "        print(\"Delete a task\")\n",
    "        message3 = input(\"Enter task to delete: \")\n",
    "        if message3 == \"python\":\n",
    "            print(\"Your python task is deleted\")\n",
    "        else:\n",
    "            print(\"invalid value\")\n",
    "    elif option == 4:\n",
    "        print(\"update a task\")\n",
    "        message4 = input(\"Enter task to update: \")\n",
    "        print(f\"{message4} is updated\")\n",
    "    else:\n",
    "        print(\"invalid value\")\n",
    "    option = int(input(\"Select an option (0 to quit) : \"))\n",
    "print(\" Thanks for using this\")"
   ]
  },
  {
   "cell_type": "code",
   "execution_count": null,
   "id": "ea7783fc",
   "metadata": {},
   "outputs": [],
   "source": [
    "def is_prime(n):\n",
    "    if n <= 1:\n",
    "        return False\n",
    "\n",
    "    # Check for divisibility from 2 to the square root of n\n",
    "    for i in range(2, int(n ** 0.5) + 1):\n",
    "        if n % i == 0:\n",
    "            return False\n",
    "\n",
    "    return True\n",
    "\n",
    "# Test the function\n",
    "number = int(input(\"Enter a number: \"))\n",
    "if is_prime(number):\n",
    "    print(number, \"is a prime number\")\n",
    "else:\n",
    "    print(number, \"is not a prime number\")\n"
   ]
  },
  {
   "cell_type": "code",
   "execution_count": null,
   "id": "06b65675",
   "metadata": {},
   "outputs": [],
   "source": [
    "#A function that calculates all prime numbers up to a particluar number entered.\n",
    "\n",
    "def is_prime(n):\n",
    "    if n <= 1:\n",
    "        return False\n",
    "\n",
    "    # Check for divisibility from 2 to the square root of n\n",
    "    for i in range(2, int(n ** 0.5) + 1):\n",
    "        if n % i == 0:\n",
    "            return False\n",
    "\n",
    "    return True\n",
    "# Test the function\n",
    "number = int(input(\"Enter a number: \"))\n",
    "if is_prime(number):\n",
    "    print(number, \"is a prime number\")\n",
    "else:\n",
    "    print(number, \"is not a prime number\")"
   ]
  },
  {
   "cell_type": "code",
   "execution_count": 1,
   "id": "b12ffd50",
   "metadata": {},
   "outputs": [
    {
     "name": "stdout",
     "output_type": "stream",
     "text": [
      "Peter is 30 and can swim and walk\n",
      "['__class__', '__delattr__', '__dict__', '__dir__', '__doc__', '__eq__', '__format__', '__ge__', '__getattribute__', '__gt__', '__hash__', '__init__', '__init_subclass__', '__le__', '__lt__', '__module__', '__ne__', '__new__', '__reduce__', '__reduce_ex__', '__repr__', '__setattr__', '__sizeof__', '__str__', '__subclasshook__', '__weakref__', 'actions', 'age', 'behaviour', 'name']\n"
     ]
    }
   ],
   "source": [
    "class Attributes:\n",
    "    def __init__(self, name, age):\n",
    "        self.name = name\n",
    "        self.age = age\n",
    "        self.actions = [\"swim\", \"run\", \"walk\"]\n",
    "\n",
    "    def behaviour(self):\n",
    "        return f\"{self.name.title()} is {self.age} and can {self.actions[0]} and {self.actions[2]}\"\n",
    "\n",
    "\n",
    "name1 = Attributes(\"peter\", 30)\n",
    "print(name1.behaviour())\n",
    "\n",
    "def look_up(object):\n",
    "    return dir(object)\n",
    "print(look_up(name1))"
   ]
  },
  {
   "cell_type": "code",
   "execution_count": 2,
   "id": "01f059fb",
   "metadata": {},
   "outputs": [
    {
     "name": "stdout",
     "output_type": "stream",
     "text": [
      "[0, 1, 2, 3, 5, 6, 8]\n"
     ]
    }
   ],
   "source": [
    "class MyList(list):\n",
    "    def print_sorted(self):\n",
    "        sorted_list = sorted(self)\n",
    "        print(sorted_list)\n",
    "\n",
    "\n",
    "my_list = MyList([5, 2, 8, 1, 3])\n",
    "my_list.append(6)\n",
    "my_list.append(0)\n",
    "my_list.print_sorted()  # Output: [0, 1, 2, 3, 5, 6, 8]"
   ]
  },
  {
   "cell_type": "code",
   "execution_count": 3,
   "id": "48b0faf1",
   "metadata": {},
   "outputs": [
    {
     "name": "stdout",
     "output_type": "stream",
     "text": [
      "1 is an instance of the class int\n"
     ]
    }
   ],
   "source": [
    "def is_same_class(obj, a_class):\n",
    "    return type(obj) is a_class\n",
    "\n",
    "a = 1\n",
    "if is_same_class(a, int):\n",
    "    print(\"{} is an instance of the class {}\".format(a, int.__name__))\n",
    "if is_same_class(a, float):\n",
    "    print(\"{} is an instance of the class {}\".format(a, float.__name__))\n",
    "if is_same_class(a, object):\n",
    "    print(\"{} is an instance of the class {}\".format(a, object.__name__))"
   ]
  },
  {
   "cell_type": "code",
   "execution_count": 4,
   "id": "d298a70e",
   "metadata": {},
   "outputs": [
    {
     "name": "stdout",
     "output_type": "stream",
     "text": [
      "1.5 comes from float\n"
     ]
    }
   ],
   "source": [
    "def is_kind_of_class(obj, a_class):\n",
    "    return type(obj) is a_class\n",
    "\n",
    "a = 1.5\n",
    "if is_kind_of_class(a, int):\n",
    "    print(\"{} comes from {}\".format(a, int.__name__))\n",
    "if is_kind_of_class(a, float):\n",
    "    print(\"{} comes from {}\".format(a, float.__name__))\n",
    "if is_kind_of_class(a, object):\n",
    "    print(\"{} comes from {}\".format(a, object.__name__))\n"
   ]
  },
  {
   "cell_type": "code",
   "execution_count": 5,
   "id": "98e53428",
   "metadata": {},
   "outputs": [
    {
     "name": "stdout",
     "output_type": "stream",
     "text": [
      "False inherited from class bool\n"
     ]
    }
   ],
   "source": [
    "def inherits_from(obj, a_class):\n",
    "    return type(obj) is a_class\n",
    "\n",
    "a = False\n",
    "if inherits_from(a, int):\n",
    "    print(\"{} inherited from class {}\".format(a, int.__name__))\n",
    "if inherits_from(a, bool):\n",
    "    print(\"{} inherited from class {}\".format(a, bool.__name__))\n",
    "if inherits_from(a, object):\n",
    "    print(\"{} inherited from class {}\".format(a, object.__name__))"
   ]
  },
  {
   "cell_type": "code",
   "execution_count": 6,
   "id": "979c9962",
   "metadata": {},
   "outputs": [
    {
     "name": "stdout",
     "output_type": "stream",
     "text": [
      "###\n",
      "###\n",
      "###\n",
      "--\n",
      "##########\n",
      "##########\n",
      "##########\n",
      "##########\n",
      "##########\n",
      "##########\n",
      "##########\n",
      "##########\n",
      "##########\n",
      "##########\n",
      "--\n"
     ]
    }
   ],
   "source": [
    "class Square:\n",
    "    def __init__(self, size):\n",
    "        self.size = size\n",
    "\n",
    "    @property\n",
    "    def size(self):\n",
    "        return self._size\n",
    "\n",
    "    @size.setter\n",
    "    def size(self, value):\n",
    "        if not isinstance(value, int):\n",
    "            raise TypeError(\"size must be an integer\")\n",
    "        if value < 0:\n",
    "            raise ValueError(\"size must be >= 0\")\n",
    "        self._size = value\n",
    "\n",
    "    def area(self):\n",
    "        return self.size ** 2\n",
    "\n",
    "    def my_print(self):\n",
    "        if self.size == 0:\n",
    "            print(\"---\")\n",
    "        else:\n",
    "            for x in range(self.size):\n",
    "                print(\"#\" * self.size)\n",
    "\n",
    "\n",
    "my_square = Square(3)\n",
    "my_square.my_print()\n",
    "print(\"--\")\n",
    "\n",
    "my_square = Square(10)\n",
    "my_square.my_print()\n",
    "print(\"--\")"
   ]
  },
  {
   "cell_type": "code",
   "execution_count": 57,
   "id": "d3255031",
   "metadata": {},
   "outputs": [
    {
     "name": "stdout",
     "output_type": "stream",
     "text": [
      "Enter first number: 5\n",
      "Enter second number: 0\n",
      "You cannot divide by zero\n"
     ]
    }
   ],
   "source": [
    "# Write a program that takes two numbers as input and performs division. Handle the\n",
    "# ZeroDivisionError by displaying a custom error message if the second number is zero.\n",
    "\n",
    "first_number = int(input(\"Enter first number: \"))\n",
    "second_number = int(input(\"Enter second number: \"))\n",
    "try:\n",
    "    result = first_number/second_number\n",
    "except ZeroDivisionError:\n",
    "    print(\"You cannot divide by zero\")\n",
    "else:\n",
    "    print(result)"
   ]
  },
  {
   "cell_type": "code",
   "execution_count": null,
   "id": "eeb27023",
   "metadata": {},
   "outputs": [],
   "source": [
    "# Create a function that accepts a list and an index as arguments. The function should return the\n",
    "# element at the given index if it's within the valid range, otherwise raise an IndexError with an\n",
    "# appropriate error message.\n",
    "??"
   ]
  },
  {
   "cell_type": "code",
   "execution_count": 13,
   "id": "e7d7a0f4",
   "metadata": {},
   "outputs": [
    {
     "name": "stdout",
     "output_type": "stream",
     "text": [
      "This file location does not exist\n"
     ]
    }
   ],
   "source": [
    "# Write a program that takes a filename as input and attempts to open the file for reading. Handle\n",
    "# the FileNotFoundError by displaying an error message if the file doesn't exist\n",
    "\n",
    "import os\n",
    "\n",
    "path = \"test_file.txt\"\n",
    "\n",
    "if os.path.exists(path):\n",
    "    print(\"This file location exists\")\n",
    "else:\n",
    "    print(\"This file location does not exist\")      "
   ]
  },
  {
   "cell_type": "code",
   "execution_count": 16,
   "id": "4887d4fd",
   "metadata": {},
   "outputs": [
    {
     "name": "stdout",
     "output_type": "stream",
     "text": [
      "This file does not exist\n"
     ]
    }
   ],
   "source": [
    "try:\n",
    "    with open(\"test_file.txt\") as file_object:\n",
    "        contents = file_object.read()\n",
    "except FileNotFoundError:\n",
    "    print(\"This file does not exist\")\n",
    "else:\n",
    "    print(contents)"
   ]
  },
  {
   "cell_type": "code",
   "execution_count": 32,
   "id": "495d48d7",
   "metadata": {},
   "outputs": [
    {
     "name": "stdout",
     "output_type": "stream",
     "text": [
      "Expected value was not given\n"
     ]
    }
   ],
   "source": [
    "# Create a function that converts a string to an integer. If the string cannot be converted, raise a\n",
    "# ValueError with a clear error message.\n",
    "\n",
    "def string_to_integer(entry):\n",
    "    \"\"\"function that converts string to integer and otherwise raises ValueError\"\"\"\n",
    "    try:\n",
    "        new_entry = int(entry)\n",
    "    except ValueError:\n",
    "        return \"Expected value was not given\"\n",
    "    else:\n",
    "        return new_entry\n",
    "print(string_to_integer(\"hello\"))"
   ]
  },
  {
   "cell_type": "code",
   "execution_count": 44,
   "id": "24149613",
   "metadata": {},
   "outputs": [
    {
     "name": "stdout",
     "output_type": "stream",
     "text": [
      "This is a valid positive integer\n"
     ]
    }
   ],
   "source": [
    "# Implement a function that asks the user for their age and checks whether it's a valid positive\n",
    "# integer. If the input is not valid, raise a ValueError with a descriptive message.\n",
    "\n",
    "def positive_integer(entry):\n",
    "    \"\"\"Function that checks for valid positive interger or returns value error\"\"\"\n",
    "    if entry > 0:\n",
    "        return \"This is a valid positive integer\"\n",
    "    else:\n",
    "        return \"The entry is not valid\"\n",
    "    return entry\n",
    "print(positive_integer(3))"
   ]
  },
  {
   "cell_type": "code",
   "execution_count": 55,
   "id": "c455af79",
   "metadata": {},
   "outputs": [],
   "source": [
    "# Write a program that simulates a login system. Ask the user to enter a username and password.\n",
    "# If the password is incorrect, raise a PermissionError with an error message indicating that the\n",
    "# login was unsuccessful.\n",
    "??"
   ]
  },
  {
   "cell_type": "code",
   "execution_count": 52,
   "id": "fed98ae8",
   "metadata": {},
   "outputs": [
    {
     "name": "stdout",
     "output_type": "stream",
     "text": [
      "entry cannot be a negative number\n"
     ]
    }
   ],
   "source": [
    "# Design a function that takes a number as input and calculates the square root using the\n",
    "# math.sqrt function. Handle the ValueError that may occur if the input is negative, and raise\n",
    "# a custom exception with an appropriate error message.\n",
    "\n",
    "import math\n",
    "\n",
    "def square_root(entry):\n",
    "    \"\"\"A function that checks positive square root and returns ValueError if Otherwise\"\"\"\n",
    "    try:\n",
    "        new_entry = math.sqrt(entry)\n",
    "    except ValueError:\n",
    "        return \"entry cannot be a negative number\"\n",
    "    else:\n",
    "        return new_entry\n",
    "print(square_root(-25))"
   ]
  },
  {
   "cell_type": "code",
   "execution_count": 67,
   "id": "165e2a84",
   "metadata": {},
   "outputs": [
    {
     "name": "stdout",
     "output_type": "stream",
     "text": [
      "The value '7' was not found in the list.\n"
     ]
    }
   ],
   "source": [
    "# Create a function that accepts a list and a value. If the value is not found in the list, raise a\n",
    "# custom exception called ValueNotFoundError with an informative error message.\n",
    "??\n",
    "\n",
    "class ValueNotFoundError(Exception):\n",
    "    pass\n",
    "\n",
    "def find_value_in_list(input_list, value):\n",
    "    if value not in input_list:\n",
    "        raise ValueNotFoundError(f\"The value '{value}' was not found in the list.\")\n",
    "\n",
    "# Example usage\n",
    "my_list = [1, 2, 3, 4, 5]\n",
    "try:\n",
    "    find_value_in_list(my_list, 7)\n",
    "except ValueNotFoundError as e:\n",
    "    print(e)"
   ]
  },
  {
   "cell_type": "code",
   "execution_count": 62,
   "id": "4c565752",
   "metadata": {},
   "outputs": [
    {
     "name": "stdout",
     "output_type": "stream",
     "text": [
      "Input values must be numeric\n"
     ]
    }
   ],
   "source": [
    "# Design a function that divides two numbers and returns the result. Handle the TypeError that\n",
    "# may occur if the input values are not numeric by raising a custom exception with an explanation\n",
    "\n",
    "\n",
    "def division(first, second):\n",
    "    \"\"\"A function that divides two numbers or otherwise returns TypeError\"\"\"\n",
    "    try:\n",
    "        result = int(first/second)\n",
    "    except TypeError:\n",
    "        return \"Input values must be numeric\"\n",
    "    else:\n",
    "        return result\n",
    "\n",
    "print(division(\"Hello\", \"hi\"))"
   ]
  },
  {
   "cell_type": "code",
   "execution_count": 47,
   "id": "e87b974c",
   "metadata": {},
   "outputs": [
    {
     "name": "stdout",
     "output_type": "stream",
     "text": [
      "what would you like to do today?\n",
      "- login\n",
      "- signup\n",
      "Goodbye!\n"
     ]
    }
   ],
   "source": [
    "\"\"\"\n",
    "The entry point for a banking app\n",
    "\"\"\"\n",
    "from dataclasses import dataclass\n",
    "from random import randint\n",
    "\n",
    "@dataclass\n",
    "class User:\n",
    "    \"\"\"A bank user\"\"\"\n",
    "    name: str\n",
    "    account_number: str\n",
    "    balance: float\n",
    "    password: str\n",
    "\n",
    "users = []\n",
    "current_user = None\n",
    "\n",
    "\n",
    "def login():\n",
    "    \"\"\"login a bank user\"\"\"\n",
    "    name = input(\"enter your name\\n> \")\n",
    "    password = input(\"enter your password\\n> \")\n",
    "    for user in users:\n",
    "        if user.name == name:\n",
    "            if user.password == password:\n",
    "                print(\"login successful\")\n",
    "                return user\n",
    "            else:\n",
    "                print(\"wrong password\")\n",
    "                return None\n",
    "    print(\"no such user\")\n",
    "    return None\n",
    "\n",
    "\n",
    "def signup():\n",
    "    \"\"\"signup a bank user\"\"\"\n",
    "    name = input(\"enter your name\\n> \")\n",
    "    password = input(\"enter a secure password\\n> \")\n",
    "    deposit = float(input(\"enter your initial deposit\\n>\"))\n",
    "    account_number = tuple(str(randint(0, 9)) for x in range(10))\n",
    "    account_number = \"\".join(account_number)\n",
    "    # ensure unique account numbers\n",
    "    while True:\n",
    "        flag = False\n",
    "        for user in users:\n",
    "            if user.account_number == account_number:\n",
    "                flag = True\n",
    "                break\n",
    "        if flag is True:\n",
    "            account_number = tuple(str(randint(0, 9)) for x in range(10))\n",
    "            account_number = \"\".join(account_number)\n",
    "        else:\n",
    "            break\n",
    "    new_user = User(name=name, account_number=account_number,\n",
    "                    balance=deposit, password=password)\n",
    "    users.append(new_user)\n",
    "\n",
    "def logout():\n",
    "    \"\"\"logs the current user out\"\"\"\n",
    "    global current_user\n",
    "\n",
    "    current_user = None\n",
    "    print(\"successfully logged out\")\n",
    "\n",
    "\n",
    "def info():\n",
    "    print(f\"name: {current_user.name}\")\n",
    "    print(f\"account number: {current_user.account_number}\")\n",
    "    print(f\"balance: {current_user.balance}\")\n",
    "\n",
    "\n",
    "def main():\n",
    "    \"\"\"The main function\"\"\"\n",
    "    global current_user\n",
    "\n",
    "    print(\"what would you like to do today?\")\n",
    "    if current_user is None:\n",
    "        print(\"- login\")\n",
    "        print(\"- signup\")\n",
    "    else:\n",
    "        print(\"- info\")\n",
    "        print(\"- logout\")\n",
    "    task = input(\"> \")\n",
    "    if task == \"login\":\n",
    "        current_user = login()\n",
    "    elif task == \"signup\":\n",
    "        signup()\n",
    "        print(\"Created accout successfully\")\n",
    "    elif task == \"info\":\n",
    "        info()\n",
    "    elif task == \"logout\":\n",
    "        logout()\n",
    "        \n",
    "\n",
    "\n",
    "if __name__ == \"__main__\":\n",
    "    while True:\n",
    "        try:\n",
    "            main()\n",
    "        except (KeyboardInterrupt, EOFError):\n",
    "            print(\"Goodbye!\")\n",
    "            break\n",
    "    \n",
    "\n",
    "# in every python file, a variable called __name__ is defined\n",
    "# the value of the variable depends on if it was imported or run\n",
    "# directly"
   ]
  },
  {
   "cell_type": "code",
   "execution_count": 64,
   "id": "42a0d375",
   "metadata": {},
   "outputs": [
    {
     "name": "stdout",
     "output_type": "stream",
     "text": [
      "Please enter your age: kr\n",
      "Invalid input. Please enter a valid positive integer for age.\n",
      "Please enter your age: 5\n",
      "Your age is: 5\n"
     ]
    }
   ],
   "source": [
    "def get_valid_age():\n",
    "    while True:\n",
    "        try:\n",
    "            age = int(input(\"Please enter your age: \"))\n",
    "            if age <= 0:\n",
    "                raise ValueError(\"Age must be a positive integer.\")\n",
    "            return age\n",
    "        except ValueError:\n",
    "            print(\"Invalid input. Please enter a valid positive integer for age.\")\n",
    "\n",
    "# Example usage\n",
    "try:\n",
    "    user_age = get_valid_age()\n",
    "    print(\"Your age is:\", user_age)\n",
    "except ValueError as e:\n",
    "    print(e)\n"
   ]
  },
  {
   "cell_type": "code",
   "execution_count": 1,
   "id": "df11bfd7",
   "metadata": {},
   "outputs": [
    {
     "name": "stdout",
     "output_type": "stream",
     "text": [
      "Enter student's name: Nedu\n",
      "Enter student's age: 30\n",
      "Enter student's ID: c2011\n",
      "Enter Maths grade: 85\n",
      "Enter Science grade: 89\n",
      "Enter English grade: 90\n",
      "Enter History grade: 80\n",
      "Student Nedu added successfully!\n"
     ]
    }
   ],
   "source": [
    "class Student:\n",
    "    def __init__(self, name, age, student_id, grades):\n",
    "        self.name = name\n",
    "        self.age = age\n",
    "        self.student_id = student_id\n",
    "        self.grades = grades\n",
    "\n",
    "def create_student(students, subjects):\n",
    "    # Collect student information\n",
    "    name = input(\"Enter student's name: \")\n",
    "    age = input(\"Enter student's age: \")\n",
    "    student_id = input(\"Enter student's ID: \")\n",
    "    \n",
    "    # Initialize a dictionary to store grades for each subject\n",
    "    grades = {}\n",
    "    \n",
    "    # Collect grades for each subject\n",
    "    for subject in subjects:\n",
    "        while True:\n",
    "            try:\n",
    "                grade = float(input(f\"Enter {subject} grade: \"))\n",
    "                if 0 <= grade <= 100:\n",
    "                    grades[subject] = grade\n",
    "                    break\n",
    "                else:\n",
    "                    print(\"Invalid grade. Grade should be between 0 and 100.\")\n",
    "            except ValueError:\n",
    "                print(\"Invalid input. Please enter a valid number for the grade.\")\n",
    "    \n",
    "    # Create a new student instance\n",
    "    student = Student(name, age, student_id, grades)\n",
    "    \n",
    "    # Add the student instance to the list of students\n",
    "    students.append(student)\n",
    "    \n",
    "    print(f\"Student {name} added successfully!\")\n",
    "\n",
    "# Example usage:\n",
    "students = []\n",
    "subjects = [\"Maths\", \"Science\", \"English\", \"History\"]\n",
    "create_student(students, subjects)\n"
   ]
  },
  {
   "cell_type": "code",
   "execution_count": 14,
   "id": "aa416e39",
   "metadata": {},
   "outputs": [],
   "source": [
    "class Student:\n",
    "    def __init__(self, name, age, student_id, grades):\n",
    "        self.name = name\n",
    "        self.age = age\n",
    "        self.student_id = student_id\n",
    "        self.grades = grades\n",
    "\n",
    "students = []\n",
    "subjects = [\"English\", \"Maths\", \"Physics\", \"Chemistry\"]\n",
    "\n",
    "def create_student(students, subjects):\n",
    "    name = input(\"Enter student's name: \")\n",
    "    age = input(\"Enter student's age: \")\n",
    "    student_id = input(\"Enter student's ID: \")\n",
    "    \n",
    "    grades = {}\n",
    "    \n",
    "    for subject in subjects:\n",
    "        while True:\n",
    "            grade = int(input(f\"Enter {subject} grade: \"))\n",
    "            if 0 <= grade <= 100:\n",
    "                grades[subject] = grade\n",
    "                break\n",
    "            else:\n",
    "                print(\"Invalid grade\")\n",
    "    \n",
    "    student = Student(name, age, student_id, grades)\n",
    "    \n",
    "    students.append(student)\n",
    "    \n",
    "    print(f\"Student {name} added successfully!\")   \n",
    "    create_student(students, subjects)"
   ]
  },
  {
   "cell_type": "code",
   "execution_count": 1,
   "id": "235914e3",
   "metadata": {},
   "outputs": [
    {
     "name": "stdout",
     "output_type": "stream",
     "text": [
      "Enter student's name: Nedu\n",
      "Enter student's age: 25\n",
      "Enter student's ID: 25144\n",
      "Enter Maths grades separated by commas (e.g., 85, 90, 80): 80,85,90\n",
      "Enter Science grades separated by commas (e.g., 85, 90, 80): 85,98,50\n",
      "Enter English grades separated by commas (e.g., 85, 90, 80): 85,80,92\n",
      "Enter History grades separated by commas (e.g., 85, 90, 80): 80,75,80\n",
      "Student Nedu added successfully!\n",
      "Student Name: Nedu\n",
      "Student ID: 25144\n",
      "Grades:\n",
      "Maths: 80.0, 85.0, 90.0\n",
      "Science: 85.0, 98.0, 50.0\n",
      "English: 85.0, 80.0, 92.0\n",
      "History: 80.0, 75.0, 80.0\n"
     ]
    }
   ],
   "source": [
    "class Student:\n",
    "    def __init__(self, name, age, student_id, grades):\n",
    "        self.name = name\n",
    "        self.age = age\n",
    "        self.student_id = student_id\n",
    "        self.grades = grades\n",
    "\n",
    "def create_student(students, subjects):\n",
    "    # Collect student information\n",
    "    name = input(\"Enter student's name: \")\n",
    "    age = input(\"Enter student's age: \")\n",
    "    student_id = input(\"Enter student's ID: \")\n",
    "    \n",
    "    # Initialize an empty dictionary to store grades for each subject\n",
    "    grades = {}\n",
    "    \n",
    "    # Collect grades for each subject\n",
    "    for subject in subjects:\n",
    "        while True:\n",
    "            try:\n",
    "                subject_grades = input(f\"Enter {subject} grades separated by commas (e.g., 85, 90, 80): \")\n",
    "                grades_list = [float(grade) for grade in subject_grades.split(',')]\n",
    "                if all(0 <= grade <= 100 for grade in grades_list):\n",
    "                    grades[subject] = grades_list\n",
    "                    break\n",
    "                else:\n",
    "                    print(\"Invalid grade. Grades should be between 0 and 100.\")\n",
    "            except ValueError:\n",
    "                print(\"Invalid input. Please enter valid numbers for the grades separated by commas.\")\n",
    "    \n",
    "    # Create a new student instance\n",
    "    student = Student(name, age, student_id, grades)\n",
    "    \n",
    "    # Add the student instance to the list of students\n",
    "    students.append(student)\n",
    "    \n",
    "    print(f\"Student {name} added successfully!\")\n",
    "\n",
    "# Example usage:\n",
    "students = []\n",
    "subjects = [\"Maths\", \"Science\", \"English\", \"History\"]\n",
    "\n",
    "# Add a student with different grades for different subjects\n",
    "create_student(students, subjects)\n",
    "\n",
    "# Print the student's information\n",
    "if students:\n",
    "    student = students[0]  # Assuming there's at least one student\n",
    "    print(f\"Student Name: {student.name}\")\n",
    "    print(f\"Student ID: {student.student_id}\")\n",
    "    print(\"Grades:\")\n",
    "    for subject, grades in student.grades.items():\n",
    "        print(f\"{subject}: {', '.join(map(str, grades))}\")\n"
   ]
  },
  {
   "cell_type": "code",
   "execution_count": 10,
   "id": "ebc8fd96",
   "metadata": {},
   "outputs": [
    {
     "name": "stdout",
     "output_type": "stream",
     "text": [
      "Enter student's name: Name\n",
      "Enter student's age: 25\n",
      "Enter student's ID: c2011\n",
      "Enter Maths grades separated by commas (e.g., 85, 90, 80): 85, 90, 95\n",
      "Enter Science grades separated by commas (e.g., 85, 90, 80): 80, 79\n",
      "Enter English grades separated by commas (e.g., 85, 90, 80): 95, 75, 68\n",
      "Enter History grades separated by commas (e.g., 85, 90, 80): 98, 74, 85\n",
      "Student Name added successfully!\n",
      "Student Name: Name\n",
      "Average Grade Across All Subjects: 84.00\n",
      "Highest and Lowest Grades for Each Subject:\n",
      "Maths: Highest: 95.0, Lowest: 85.0\n",
      "Science: Highest: 80.0, Lowest: 79.0\n",
      "English: Highest: 95.0, Lowest: 68.0\n",
      "History: Highest: 98.0, Lowest: 74.0\n",
      "Overall Highest and Lowest Grades:\n",
      "Highest: 98.0, Lowest: 68.0\n"
     ]
    }
   ],
   "source": [
    "class Student:\n",
    "    def __init__(self, name, age, student_id, grades):\n",
    "        self.name = name\n",
    "        self.age = age\n",
    "        self.student_id = student_id\n",
    "        self.grades = grades\n",
    "\n",
    "    def calculate_average_grade_across_all_subjects(self):\n",
    "        total = 0\n",
    "        num_grades = 0\n",
    "        for subject_grades in self.grades.values():\n",
    "            total += sum(subject_grades)\n",
    "            num_grades += len(subject_grades)\n",
    "        if num_grades > 0:\n",
    "            return total / num_grades\n",
    "        else:\n",
    "            return 0  # Avoid division by zero\n",
    "\n",
    "    def highest_and_lowest_grades_for_each_subject(self):\n",
    "        subject_stats = {}\n",
    "        for subject, subject_grades in self.grades.items():\n",
    "            if subject_grades:\n",
    "                highest = max(subject_grades)\n",
    "                lowest = min(subject_grades)\n",
    "                subject_stats[subject] = {'highest': highest, 'lowest': lowest}\n",
    "            else:\n",
    "                subject_stats[subject] = {'highest': None, 'lowest': None}\n",
    "        return subject_stats\n",
    "\n",
    "    def overall_highest_and_lowest_grades(self):\n",
    "        all_grades = [grade for subject_grades in self.grades.values() for grade in subject_grades]\n",
    "        if all_grades:\n",
    "            overall_highest = max(all_grades)\n",
    "            overall_lowest = min(all_grades)\n",
    "            return {'highest': overall_highest, 'lowest': overall_lowest}\n",
    "        else:\n",
    "            return {'highest': None, 'lowest': None}\n",
    "\n",
    "# Example usage:\n",
    "students = []\n",
    "subjects = [\"Maths\", \"Science\", \"English\", \"History\"]\n",
    "\n",
    "# Add a student with different grades for different subjects\n",
    "create_student(students, subjects)\n",
    "\n",
    "# Access and calculate statistics for the student\n",
    "if students:\n",
    "    student = students[0]  # Assuming there's at least one student\n",
    "    average_grade = student.calculate_average_grade_across_all_subjects()\n",
    "    subject_stats = student.highest_and_lowest_grades_for_each_subject()\n",
    "    overall_stats = student.overall_highest_and_lowest_grades()\n",
    "\n",
    "    print(f\"Student Name: {student.name}\")\n",
    "    print(f\"Average Grade Across All Subjects: {average_grade:.2f}\")\n",
    "\n",
    "    print(\"Highest and Lowest Grades for Each Subject:\")\n",
    "    for subject, stats in subject_stats.items():\n",
    "        print(f\"{subject}: Highest: {stats['highest']}, Lowest: {stats['lowest']}\")\n",
    "\n",
    "    print(\"Overall Highest and Lowest Grades:\")\n",
    "    print(f\"Highest: {overall_stats['highest']}, Lowest: {overall_stats['lowest']}\")\n"
   ]
  },
  {
   "cell_type": "code",
   "execution_count": 4,
   "id": "35a43bb3",
   "metadata": {},
   "outputs": [
    {
     "name": "stdout",
     "output_type": "stream",
     "text": [
      "[3]\n",
      "[3, 4]\n",
      "[3, 4, 5]\n"
     ]
    }
   ],
   "source": [
    "num = []\n",
    "def store_number(x):\n",
    "    num.append(x)\n",
    "    print(num)\n",
    "\n",
    "store_number(3)\n",
    "store_number(4)\n",
    "store_number(5)\n"
   ]
  },
  {
   "cell_type": "code",
   "execution_count": 8,
   "id": "6ec96ef9",
   "metadata": {},
   "outputs": [
    {
     "name": "stdout",
     "output_type": "stream",
     "text": [
      "[3]\n",
      "[3, 4]\n"
     ]
    }
   ],
   "source": [
    "def store_number():\n",
    "    num = []\n",
    "    def append(x):\n",
    "        num.append(x)\n",
    "        print(num)\n",
    "    return append\n",
    "\n",
    "number = store_number()\n",
    "number(3)\n",
    "number(4)"
   ]
  },
  {
   "cell_type": "code",
   "execution_count": 9,
   "id": "9280e5df",
   "metadata": {},
   "outputs": [
    {
     "name": "stdout",
     "output_type": "stream",
     "text": [
      "59049\n"
     ]
    }
   ],
   "source": [
    "def multiplier_of():\n",
    "    \n",
    "    def mult(x):\n",
    "        print(x**5)\n",
    "    return mult\n",
    "multiplywith5 = multiplier_of()\n",
    "multiplywith5(9)"
   ]
  },
  {
   "cell_type": "code",
   "execution_count": null,
   "id": "742aca59",
   "metadata": {},
   "outputs": [],
   "source": [
    "class Student:\n",
    "    def __init__(self, name, age, student_id, grades):\n",
    "        self.name = name\n",
    "        self.age = age\n",
    "        self.student_id = student_id\n",
    "        self.grades = grades\n",
    "\n",
    "    def average_grade(self):\n",
    "        averages = []\n",
    "        for subject in self.grades.keys():\n",
    "            grades = self.grades[subject]\n",
    "            total_sum = sum(grades)\n",
    "            length = len(grades)\n",
    "            average = total_sum/length\n",
    "            print(f\"Average for {subject} is {average}\")\n",
    "            averages.append(average)\n",
    "\n",
    "        total_averages = sum(averages)\n",
    "        total_length = len(averages)\n",
    "        final_average = total_averages/total_length\n",
    "        print(f\"Total average is {final_average}\")\n",
    "\n",
    "def create_student(students, subjects):\n",
    "    # Collect student information\n",
    "    name = input(\"Enter student's name: \")\n",
    "    age = input(\"Enter student's age: \")\n",
    "    student_id = input(\"Enter student's ID: \")\n",
    "\n",
    "    # Initialize an empty dictionary to store grades for each subject\n",
    "    grades = {}\n",
    "\n",
    "    # Collect grades for each subject\n",
    "    for subject in subjects:\n",
    "        while True:\n",
    "            subject_grades = input(f\"Enter {subject} grades separated by commas (e.g., 85, 90, 80): \")\n",
    "            try:\n",
    "                grades_list = [float(grade) for grade in subject_grades.split(',')]\n",
    "            except ValueError:\n",
    "                print(\"Invalid input. Please enter valid numbers for the grades separated by commas.\")\n",
    "            if all(0 <= grade <= 100 for grade in grades_list):\n",
    "                grades[subject] = grades_list\n",
    "                break\n",
    "            else:\n",
    "                print(\"Invalid grade. Grades should be between 0 and 100.\")\n",
    "    # Create a new student instance\n",
    "    student = Student(name, age, student_id, grades)\n",
    "\n",
    "    # Add the student instance to the list of students\n",
    "    students.append(student)\n",
    "\n",
    "    print(f\"Student {name} added successfully!\")\n",
    "\n",
    "\n",
    "# Example usage:\n",
    "students = []\n",
    "subjects = [\"Maths\", \"Science\", \"English\", \"History\"]\n",
    "\n",
    "# Add a student with different grades for different subjects\n",
    "create_student(students, subjects)\n",
    "\n",
    "# Print the student's information\n",
    "if students:\n",
    "    student = students[0]  # Assuming there's at least one student\n",
    "    print(f\"Student Name: {student.name}\")\n",
    "    print(f\"Student ID: {student.student_id}\")\n",
    "    print(\"Grades:\")\n",
    "    for subject, grades in student.grades.items():\n",
    "        print(f\"{subject}: {', '.join(map(str, grades))}\")\n",
    "\n",
    "    student.average_grade()\n"
   ]
  },
  {
   "cell_type": "code",
   "execution_count": null,
   "id": "0d20f4db",
   "metadata": {},
   "outputs": [],
   "source": [
    "        averages = []\n",
    "        for subject in self.grades.keys():\n",
    "            grades = self.grades[subject]\n",
    "            total_sum = sum(grades)\n",
    "            length = len(grades)\n",
    "            average = total_sum/length\n",
    "            print(f\"Average for {subject} is {average}\")\n",
    "            averages.append(average)\n",
    "            \n",
    "                def highest_lowest_grade_for_each_subject(self):\n",
    "        for subject in self.grades.values():\n",
    "            highest_grade = max(subject)\n",
    "            lowest_grade = min(subject)\n",
    "            print(f\"Your highest grade in {subject} is {highest_grade}\")\n",
    "            print(f\"Your lowest grade in {subject} is {lowest_grade}\")\n"
   ]
  },
  {
   "cell_type": "code",
   "execution_count": null,
   "id": "83ba7032",
   "metadata": {},
   "outputs": [],
   "source": []
  }
 ],
 "metadata": {
  "kernelspec": {
   "display_name": "Python 3 (ipykernel)",
   "language": "python",
   "name": "python3"
  },
  "language_info": {
   "codemirror_mode": {
    "name": "ipython",
    "version": 3
   },
   "file_extension": ".py",
   "mimetype": "text/x-python",
   "name": "python",
   "nbconvert_exporter": "python",
   "pygments_lexer": "ipython3",
   "version": "3.9.16"
  }
 },
 "nbformat": 4,
 "nbformat_minor": 5
}
