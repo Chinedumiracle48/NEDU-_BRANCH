{
 "cells": [
  {
   "cell_type": "code",
   "execution_count": null,
   "id": "0b60569e",
   "metadata": {},
   "outputs": [],
   "source": [
    "phrase = input (\"Enter \\\"The quick brown fox jumps over the lazy dog\\\": \")\n",
    "\n",
    "length = len(phrase.split())\n",
    "\n",
    "print (\"The number of words are: \" + str(length))\n",
    "\n",
    "Index_of_first_occurence = phrase.find(\"The\")\n",
    "print (\"The Index of first occurence of 'The' is : \" + str(Index_of_first_occurence))\n",
    "\n",
    "Modified_paragraph = phrase.replace(\"The\", \"THE\")\n",
    "print (\"Modified paragraph: \" + str(Modified_paragraph))\n",
    "\n",
    "x = (phrase.split())\n",
    "\n",
    "print (x)\n",
    "\n",
    "for i in x:\n",
    "    print (i)\n",
    "\n",
    "lower_method = phrase.lower()\n",
    "print (lower_method)\n",
    "\n",
    "upper_method = phrase.upper()\n",
    "print (upper_method)\n",
    "\n",
    "print(f\"Summary: {phrase} contains 9 words and the first occurrence of {Index_of_first_occurence} is at index 0\")"
   ]
  },
  {
   "cell_type": "code",
   "execution_count": null,
   "id": "05e618ba",
   "metadata": {},
   "outputs": [],
   "source": [
    "import random\n",
    "n = random.randint(-999, 999)\n",
    "print(f\"n: {n}\")\n",
    "b4 = n\n",
    "if n < 0:\n",
    "    n = n * -1\n",
    "last_digit = n % 10\n",
    "print(f\"the last digit of {b4} is {last_digit}\")"
   ]
  },
  {
   "cell_type": "code",
   "execution_count": null,
   "id": "6548f945",
   "metadata": {},
   "outputs": [],
   "source": [
    "import random\n",
    "\n",
    "n = random.randint(-999, 999)\n",
    "print(f\"n: {n}\")\n",
    "\n",
    "b4 = n\n",
    "\n",
    "if n < 0:\n",
    "    n = n * -1\n",
    "    last_digit = -1 * (n % 10) \n",
    "else:\n",
    "    last_digit = n % 10\n",
    "\n",
    "print(f\"The last digit of {b4} is {last_digit}\")"
   ]
  },
  {
   "cell_type": "code",
   "execution_count": null,
   "id": "8618fef3",
   "metadata": {},
   "outputs": [],
   "source": [
    "phrase = input (\"Enter \\\"The quick brown fox jumps over the lazy dog\\\": \")\n",
    "\n",
    "length = len(phrase.split())\n",
    "\n",
    "print (\"The number of words are: \" + str(length))\n",
    "\n",
    "Index_of_first_occurence = phrase.find(\"The\")\n",
    "print (\"The Index of first occurence of 'The' is : \" + str(Index_of_first_occurence))\n",
    "\n",
    "Modified_paragraph = phrase.replace(\"The\", \"THE\", 2)\n",
    "print (\"Modified paragraph: \" + str(Modified_paragraph))\n",
    "\n",
    "x = (phrase.split())\n",
    "\n",
    "print (x)\n",
    "\n",
    "for i in x:\n",
    "    print (i)\n",
    "\n"
   ]
  },
  {
   "cell_type": "code",
   "execution_count": null,
   "id": "b48d5325",
   "metadata": {},
   "outputs": [],
   "source": [
    "txt = \"one one was a race horse, two two was one too.\"\n",
    "\n",
    "x = txt.replace(\"one\", \"three\")\n",
    "\n",
    "print(x)"
   ]
  },
  {
   "cell_type": "code",
   "execution_count": null,
   "id": "8ad421e0",
   "metadata": {},
   "outputs": [],
   "source": [
    "txt = \"one one was a race horse, two two was one too.\"\n",
    "\n",
    "x = txt.replace(\"one\", \"three\", 2)\n",
    "\n",
    "print(x)"
   ]
  },
  {
   "cell_type": "code",
   "execution_count": null,
   "id": "e83d1fa5",
   "metadata": {},
   "outputs": [],
   "source": [
    "txt = \"welcome to the jungle\"\n",
    "\n",
    "x = txt.split()\n",
    "\n",
    "print(x)"
   ]
  },
  {
   "cell_type": "code",
   "execution_count": null,
   "id": "2ebf1635",
   "metadata": {},
   "outputs": [],
   "source": [
    "cars = [\"Ford\", \"Volvo\", \"BMW\"]\n",
    "\n",
    "x = cars [2]\n",
    "\n",
    "print (x)"
   ]
  },
  {
   "cell_type": "code",
   "execution_count": null,
   "id": "90194394",
   "metadata": {},
   "outputs": [],
   "source": [
    "number = 2468579\n",
    "divmod(number, 100)"
   ]
  },
  {
   "cell_type": "code",
   "execution_count": 21,
   "id": "ddcbf3a0",
   "metadata": {},
   "outputs": [
    {
     "name": "stdout",
     "output_type": "stream",
     "text": [
      "Ford\n",
      "Volvo\n",
      "BMW\n"
     ]
    }
   ],
   "source": [
    "cars = [\"Ford\", \"Volvo\", \"BMW\"]\n",
    "\n",
    "for x in cars:\n",
    "    print (x)"
   ]
  },
  {
   "cell_type": "code",
   "execution_count": 24,
   "id": "7ffff772",
   "metadata": {},
   "outputs": [
    {
     "name": "stdout",
     "output_type": "stream",
     "text": [
      "John scored 85\n",
      "Emily scored 92\n",
      "Michael scored 78\n"
     ]
    }
   ],
   "source": [
    "student_grades = {\"John\": 85, \"Emily\": 92, \"Michael\": 78}\n",
    "for name, grade in student_grades.items():\n",
    "    print (f\"{name} scored {grade}\")"
   ]
  },
  {
   "cell_type": "code",
   "execution_count": 1,
   "id": "17633c6c",
   "metadata": {},
   "outputs": [
    {
     "name": "stdout",
     "output_type": "stream",
     "text": [
      "5\n",
      "4\n",
      "3\n",
      "2\n",
      "1\n"
     ]
    }
   ],
   "source": [
    "count = 5\n",
    "while count > 0:\n",
    "    print(count)\n",
    "    count -= 1"
   ]
  },
  {
   "cell_type": "code",
   "execution_count": 2,
   "id": "0e08e297",
   "metadata": {},
   "outputs": [
    {
     "name": "stdout",
     "output_type": "stream",
     "text": [
      "Enter your age: k\n",
      "Enter your age: 10\n"
     ]
    }
   ],
   "source": [
    "valid_input = False\n",
    "while not valid_input:\n",
    "    age = input(\"Enter your age: \")\n",
    "    if age.isdigit():\n",
    "        valid_input = True"
   ]
  },
  {
   "cell_type": "code",
   "execution_count": 3,
   "id": "a55aad92",
   "metadata": {},
   "outputs": [
    {
     "name": "stdout",
     "output_type": "stream",
     "text": [
      "Sum: 55\n"
     ]
    }
   ],
   "source": [
    "total = 0\n",
    "number = 1\n",
    "while number <= 10:\n",
    "    total += number\n",
    "    number += 1\n",
    "print(\"Sum:\", total)"
   ]
  },
  {
   "cell_type": "code",
   "execution_count": 4,
   "id": "278006f9",
   "metadata": {},
   "outputs": [
    {
     "name": "stdout",
     "output_type": "stream",
     "text": [
      "1\n",
      "1\n",
      "2\n",
      "3\n",
      "5\n",
      "8\n",
      "13\n",
      "21\n",
      "34\n",
      "55\n",
      "89\n",
      "144\n",
      "233\n",
      "377\n",
      "610\n",
      "987\n"
     ]
    }
   ],
   "source": [
    "a, b = 0, 1\n",
    "while b < 1000:\n",
    "    print(b)\n",
    "    a, b = b, a + b"
   ]
  },
  {
   "cell_type": "code",
   "execution_count": 5,
   "id": "d911322a",
   "metadata": {},
   "outputs": [
    {
     "name": "stdout",
     "output_type": "stream",
     "text": [
      "1 1\n",
      "1 2\n",
      "1 3\n",
      "2 1\n",
      "2 2\n",
      "3 1\n"
     ]
    }
   ],
   "source": [
    "for i in range(1, 4):\n",
    "    for j in range(1, 4):\n",
    "        print(i, j)\n",
    "        if i + j == 4:\n",
    "            break"
   ]
  },
  {
   "cell_type": "code",
   "execution_count": 7,
   "id": "953fa2c5",
   "metadata": {},
   "outputs": [
    {
     "name": "stdout",
     "output_type": "stream",
     "text": [
      "5\n",
      "8\n",
      "Number 3 found!\n"
     ]
    }
   ],
   "source": [
    "numbers = [5, 8, 3, 2, 9, 7]\n",
    "for num in numbers:\n",
    "    if num == 3:\n",
    "        print(\"Number 3 found!\")\n",
    "        break\n",
    "    print(num)"
   ]
  },
  {
   "cell_type": "code",
   "execution_count": 10,
   "id": "3af0bd94",
   "metadata": {},
   "outputs": [
    {
     "name": "stdout",
     "output_type": "stream",
     "text": [
      "3\t\n",
      "6\t\n",
      "9\t\n",
      "12\t\n",
      "15\t\n"
     ]
    }
   ],
   "source": [
    "for j in range(1, 6):\n",
    "    print(i * j, end=\"\\t\")\n",
    "    print()"
   ]
  },
  {
   "cell_type": "code",
   "execution_count": 11,
   "id": "b524b212",
   "metadata": {},
   "outputs": [
    {
     "name": "stdout",
     "output_type": "stream",
     "text": [
      "2 is prime\n",
      "3 is prime\n",
      "5 is prime\n",
      "7 is prime\n",
      "11 is prime\n",
      "13 is prime\n",
      "17 is prime\n",
      "19 is prime\n"
     ]
    }
   ],
   "source": [
    "for num in range(2, 20):\n",
    "    for i in range(2, num):\n",
    "        if num % i == 0:\n",
    "            break\n",
    "    else:\n",
    "        print(num, \"is prime\")"
   ]
  },
  {
   "cell_type": "code",
   "execution_count": 12,
   "id": "a7123f99",
   "metadata": {},
   "outputs": [
    {
     "name": "stdout",
     "output_type": "stream",
     "text": [
      "*\n",
      "**\n",
      "***\n",
      "****\n",
      "*****\n"
     ]
    }
   ],
   "source": [
    "for i in range(1, 6):\n",
    "    for j in range(i):\n",
    "        print(\"*\", end=\"\")\n",
    "    print()\n"
   ]
  },
  {
   "cell_type": "code",
   "execution_count": 18,
   "id": "676bfadd",
   "metadata": {},
   "outputs": [
    {
     "name": "stdout",
     "output_type": "stream",
     "text": [
      "[1, 2, 3]\n",
      "[4, 5, 6]\n",
      "[7, 8, 9]\n"
     ]
    }
   ],
   "source": [
    "matrix = [[1, 2, 3], [4, 5, 6], [7, 8, 9]]\n",
    "for element in matrix:\n",
    "    print(element, end=\"\\n\")"
   ]
  },
  {
   "cell_type": "code",
   "execution_count": 20,
   "id": "128e9cdd",
   "metadata": {},
   "outputs": [
    {
     "name": "stdout",
     "output_type": "stream",
     "text": [
      "H\n",
      "e\n",
      "l\n",
      "l\n",
      "o\n",
      "!\n"
     ]
    }
   ],
   "source": [
    "message = \"Hello!\"\n",
    "for char in message:\n",
    "    print(char)"
   ]
  },
  {
   "cell_type": "code",
   "execution_count": 23,
   "id": "b1910ab7",
   "metadata": {},
   "outputs": [
    {
     "name": "stdout",
     "output_type": "stream",
     "text": [
      "Index: 0 Fruit: apple\n",
      "Index: 1 Fruit: banana\n",
      "Index: 2 Fruit: cherry\n"
     ]
    }
   ],
   "source": [
    "fruits = [\"apple\", \"banana\", \"cherry\"]\n",
    "for number, fruit in enumerate(fruits):\n",
    "    print(\"Index:\", number, \"Fruit:\", fruit)"
   ]
  },
  {
   "cell_type": "code",
   "execution_count": null,
   "id": "97de8c29",
   "metadata": {},
   "outputs": [],
   "source": [
    "#Create a program that takes a list of numbers as input from the user and calculates their sum and average.\n",
    "#Write a program that prompts the user to enter a sentence and counts the number of vowels (a, e, i, o, u) in that sentence.\n",
    "#Implement a program that generates a multiplication table for a given range of numbers entered by the user.\n",
    "#Build a program that prompts the user to enter a string and checks if it is a palindrome (reads the same forwards and backwards).\n",
    "#Create a program that simulates a simple guessing game. The program should generate a random number, and the user has to guess that number within a certain number of attempts.\n",
    "number = float(input(\"Enter list of numbers: \"))\n"
   ]
  }
 ],
 "metadata": {
  "kernelspec": {
   "display_name": "Python 3 (ipykernel)",
   "language": "python",
   "name": "python3"
  },
  "language_info": {
   "codemirror_mode": {
    "name": "ipython",
    "version": 3
   },
   "file_extension": ".py",
   "mimetype": "text/x-python",
   "name": "python",
   "nbconvert_exporter": "python",
   "pygments_lexer": "ipython3",
   "version": "3.9.16"
  }
 },
 "nbformat": 4,
 "nbformat_minor": 5
}
