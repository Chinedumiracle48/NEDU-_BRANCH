{
 "cells": [
  {
   "cell_type": "code",
   "execution_count": 1,
   "id": "84443835",
   "metadata": {},
   "outputs": [
    {
     "name": "stdout",
     "output_type": "stream",
     "text": [
      "Enter length of numbers: 4\n",
      "6\n",
      "8\n",
      "4\n",
      "7\n",
      "[36, 64, 16]\n"
     ]
    }
   ],
   "source": [
    "def square():\n",
    "    numbers = int(input(\"Enter length of numbers: \"))\n",
    "    number = []\n",
    "    for num in range(numbers):\n",
    "        x = int(input())\n",
    "        number.append(x)\n",
    "    even_numbers = [n for n in number if n % 2 == 0]\n",
    "    squares = [m ** 2 for m in even_numbers]\n",
    "    print(squares)\n",
    "square()"
   ]
  },
  {
   "cell_type": "code",
   "execution_count": null,
   "id": "3c2e1bff",
   "metadata": {},
   "outputs": [],
   "source": []
  }
 ],
 "metadata": {
  "kernelspec": {
   "display_name": "Python 3 (ipykernel)",
   "language": "python",
   "name": "python3"
  },
  "language_info": {
   "codemirror_mode": {
    "name": "ipython",
    "version": 3
   },
   "file_extension": ".py",
   "mimetype": "text/x-python",
   "name": "python",
   "nbconvert_exporter": "python",
   "pygments_lexer": "ipython3",
   "version": "3.9.16"
  }
 },
 "nbformat": 4,
 "nbformat_minor": 5
}
