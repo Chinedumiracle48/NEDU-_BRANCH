{
 "cells": [
  {
   "cell_type": "code",
   "execution_count": 3,
   "id": "012b9cae",
   "metadata": {},
   "outputs": [
    {
     "name": "stdout",
     "output_type": "stream",
     "text": [
      "n: -179\n",
      "The last digit of -179 is -9\n"
     ]
    }
   ],
   "source": [
    "import random\n",
    "\n",
    "n = random.randint(-999, 999)\n",
    "print(f\"n: {n}\")\n",
    "\n",
    "b4 = n\n",
    "\n",
    "if n < 0:\n",
    "    n = n * -1\n",
    "    last_digit = -1 * (n % 10) \n",
    "else:\n",
    "    last_digit = n % 10\n",
    "\n",
    "print(f\"The last digit of {b4} is {last_digit}\")"
   ]
  },
  {
   "cell_type": "code",
   "execution_count": 4,
   "id": "b50018cd",
   "metadata": {},
   "outputs": [
    {
     "name": "stdout",
     "output_type": "stream",
     "text": [
      "HELLOO\n"
     ]
    }
   ],
   "source": [
    "a_tuple = ('H','E', 'L', 'L', 'O', 'O' )\n",
    "\n",
    "new_tuple = \"\".join(a_tuple)\n",
    "print (new_tuple)"
   ]
  },
  {
   "cell_type": "code",
   "execution_count": 5,
   "id": "fce5c11c",
   "metadata": {},
   "outputs": [
    {
     "name": "stdout",
     "output_type": "stream",
     "text": [
      "6.0\n"
     ]
    }
   ],
   "source": [
    "tup = (1, 5, 7, 8, 9)\n",
    "\n",
    "a = sum (tup)\n",
    "\n",
    "avg = a/float(len(tup))\n",
    "\n",
    "print (avg)"
   ]
  },
  {
   "cell_type": "code",
   "execution_count": 6,
   "id": "5d62375c",
   "metadata": {},
   "outputs": [
    {
     "name": "stdout",
     "output_type": "stream",
     "text": [
      "(6, 9, 8, 6)\n"
     ]
    }
   ],
   "source": [
    "tuples = (\n",
    "(1, 2, 3, 4),\n",
    "(3, 5, 2, 1),\n",
    "(2, 2, 3, 1)\n",
    ")\n",
    "\n",
    "a = tuples[0]\n",
    "b = tuples[1]\n",
    "c = tuples[2]\n",
    "\n",
    "i = (a[0] + b[0] + c[0], a[1] + b[1] + c[1], a[2] + b[2] + c[2], a[3] + b[3] + c[3])\n",
    "print(i)"
   ]
  },
  {
   "cell_type": "code",
   "execution_count": null,
   "id": "3b02e9c7",
   "metadata": {},
   "outputs": [],
   "source": []
  }
 ],
 "metadata": {
  "kernelspec": {
   "display_name": "Python 3 (ipykernel)",
   "language": "python",
   "name": "python3"
  },
  "language_info": {
   "codemirror_mode": {
    "name": "ipython",
    "version": 3
   },
   "file_extension": ".py",
   "mimetype": "text/x-python",
   "name": "python",
   "nbconvert_exporter": "python",
   "pygments_lexer": "ipython3",
   "version": "3.9.16"
  }
 },
 "nbformat": 4,
 "nbformat_minor": 5
}
